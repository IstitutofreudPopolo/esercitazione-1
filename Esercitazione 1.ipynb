{
 "cells": [
  {
   "cell_type": "code",
   "execution_count": 1,
   "id": "56cc660d",
   "metadata": {},
   "outputs": [
    {
     "name": "stdout",
     "output_type": "stream",
     "text": [
      "Ciao, mondo!\n"
     ]
    }
   ],
   "source": [
    "print(\"Ciao, mondo!\")"
   ]
  },
  {
   "cell_type": "code",
   "execution_count": 2,
   "id": "9e521ee1",
   "metadata": {},
   "outputs": [
    {
     "name": "stdout",
     "output_type": "stream",
     "text": [
      "Inserisci il tuo nome:Samuele\n",
      "Ciao,  Samuele !\n"
     ]
    }
   ],
   "source": [
    "nome = input(\"Inserisci il tuo nome:\")\n",
    "print(\"Ciao, \", nome, \"!\")"
   ]
  },
  {
   "cell_type": "code",
   "execution_count": 3,
   "id": "72e8ffcb",
   "metadata": {},
   "outputs": [
    {
     "name": "stdout",
     "output_type": "stream",
     "text": [
      "Inserisci il tuo nome:Samuele\n",
      "Ciao,  Samuele !\n",
      "Ciao,  Samuele !\n",
      "Ciao,  Samuele !\n",
      "Ciao,  Samuele !\n",
      "Ciao,  Samuele !\n"
     ]
    }
   ],
   "source": [
    "nome = input(\"Inserisci il tuo nome:\")\n",
    "for i in range(5):\n",
    "    print(\"Ciao, \", nome, \"!\")"
   ]
  },
  {
   "cell_type": "code",
   "execution_count": 4,
   "id": "de92345d",
   "metadata": {},
   "outputs": [
    {
     "name": "stdout",
     "output_type": "stream",
     "text": [
      "Inserisci un numero: 10\n",
      "Inserisci un numero: 5\n",
      "La somma è: 15\n"
     ]
    }
   ],
   "source": [
    "numero1 = int(input(\"Inserisci un numero: \"))\n",
    "numero2 = int(input(\"Inserisci un numero: \"))\n",
    "somma = numero1 + numero2\n",
    "print(\"La somma è:\", somma)"
   ]
  },
  {
   "cell_type": "code",
   "execution_count": 5,
   "id": "1360d7f6",
   "metadata": {},
   "outputs": [
    {
     "name": "stdout",
     "output_type": "stream",
     "text": [
      "La sottrazione è: 5\n"
     ]
    }
   ],
   "source": [
    "sottrazione = numero1 - numero2\n",
    "print(\"La sottrazione è:\", sottrazione)"
   ]
  },
  {
   "cell_type": "code",
   "execution_count": 6,
   "id": "a3ca8097",
   "metadata": {},
   "outputs": [
    {
     "name": "stdout",
     "output_type": "stream",
     "text": [
      "Il prodotto è: 50\n"
     ]
    }
   ],
   "source": [
    "moltiplicazione = numero1 * numero2\n",
    "print(\"Il prodotto è:\", moltiplicazione)"
   ]
  },
  {
   "cell_type": "code",
   "execution_count": 7,
   "id": "b7778f58",
   "metadata": {},
   "outputs": [
    {
     "name": "stdout",
     "output_type": "stream",
     "text": [
      "Il risultato è: 2.0\n"
     ]
    }
   ],
   "source": [
    "divisione = numero1 / numero2\n",
    "print(\"Il risultato è:\", divisione)"
   ]
  },
  {
   "cell_type": "code",
   "execution_count": 8,
   "id": "01e49065",
   "metadata": {
    "scrolled": true
   },
   "outputs": [
    {
     "name": "stdout",
     "output_type": "stream",
     "text": [
      "1\n",
      "2\n",
      "3\n",
      "4\n",
      "5\n",
      "6\n",
      "7\n",
      "8\n",
      "9\n",
      "10\n"
     ]
    }
   ],
   "source": [
    "for numero in range(1, 11):\n",
    "    print(numero)"
   ]
  },
  {
   "cell_type": "code",
   "execution_count": 9,
   "id": "c972b36d",
   "metadata": {},
   "outputs": [
    {
     "name": "stdout",
     "output_type": "stream",
     "text": [
      "inserisci un simbolo (+, -, *, /): /\n",
      "Inserisci il primo numero: 25\n",
      "Inserisci il secondo numero: 5\n",
      "il risultato è: 5.0\n"
     ]
    }
   ],
   "source": [
    "operazione = input(\"inserisci un simbolo (+, -, *, /): \")\n",
    "\n",
    "numero1 = float(input(\"Inserisci il primo numero: \"))\n",
    "numero2 = float(input(\"Inserisci il secondo numero: \"))\n",
    "\n",
    "if operazione == \"+\":\n",
    "    risultato = numero1 + numero2\n",
    "elif operazione == \"-\":\n",
    "    risultato = numero1 - numero2\n",
    "elif operazione == \"*\":\n",
    "    risultato = numero1 * numero2\n",
    "elif operazione == \"/\":\n",
    "    risultato = numero1 / numero2\n",
    "else:\n",
    "    risultato = \"Operazione non valida\"\n",
    "    \n",
    "print(\"il risultato è:\", risultato)"
   ]
  },
  {
   "cell_type": "code",
   "execution_count": 10,
   "id": "ed5eb6cd",
   "metadata": {},
   "outputs": [
    {
     "name": "stdout",
     "output_type": "stream",
     "text": [
      "inserisci un numnero intero positivo: 13\n",
      "La somma dei primi 13 numeri interi è: 91\n"
     ]
    }
   ],
   "source": [
    "n = int(input(\"inserisci un numnero intero positivo: \"))\n",
    "somma = 0\n",
    "for numero in range(1, n+1):\n",
    "    #somma = somma+ numero\n",
    "    somma += numero\n",
    "print(\"La somma dei primi\", n, \"numeri interi è:\", somma)"
   ]
  },
  {
   "cell_type": "code",
   "execution_count": 1,
   "id": "bc35a2a0",
   "metadata": {},
   "outputs": [
    {
     "name": "stdout",
     "output_type": "stream",
     "text": [
      "Inserisci un numero intero positivo: 5\n",
      "Quadrati dei primi 5 numeri: \n",
      "Il quadrato di 1 è 1\n",
      "Il quadrato di 2 è 4\n",
      "Il quadrato di 3 è 9\n",
      "Il quadrato di 4 è 16\n",
      "Il quadrato di 5 è 25\n"
     ]
    }
   ],
   "source": [
    "n = int(input(\"Inserisci un numero intero positivo: \"))\n",
    "\n",
    "print(\"Quadrati dei primi\", n, \"numeri: \")\n",
    "\n",
    "for numero in range (1,n+1):\n",
    "    quadrato = numero ** 2\n",
    "    print(\"Il quadrato di\", numero, \"è\", quadrato) \n"
   ]
  },
  {
   "cell_type": "code",
   "execution_count": 2,
   "id": "0bf3a61a",
   "metadata": {},
   "outputs": [
    {
     "name": "stdout",
     "output_type": "stream",
     "text": [
      "Inserisci un numero: 14\n",
      "14 è un numero pari.\n"
     ]
    }
   ],
   "source": [
    "numero = int(input(\"Inserisci un numero: \"))\n",
    "\n",
    "if numero % 2 == 0:\n",
    "    print(numero, \"è un numero pari.\")\n",
    "else:\n",
    "    print(numero, \"è un numero dispari.\")"
   ]
  },
  {
   "cell_type": "code",
   "execution_count": 2,
   "id": "9b81ccd9",
   "metadata": {},
   "outputs": [
    {
     "name": "stdout",
     "output_type": "stream",
     "text": [
      "Inserisci un numero intero positivo: 8\n",
      "il fattoriale di 8 è  40320\n"
     ]
    }
   ],
   "source": [
    "n = int(input(\"Inserisci un numero intero positivo: \"))\n",
    "fattoriale = 1\n",
    "for numero in range(1, n + 1):\n",
    "    #fattoriale = fattoriale*numero\n",
    "    fattoriale *=numero\n",
    "print(\"il fattoriale di\", n, \"è \", fattoriale)"
   ]
  },
  {
   "cell_type": "code",
   "execution_count": 7,
   "id": "e34cf387",
   "metadata": {},
   "outputs": [
    {
     "name": "stdout",
     "output_type": "stream",
     "text": [
      "Quanti numeri vuoi inserire? 3\n",
      "Inserisci un numero: 5\n",
      "Inserisci un numero: 21\n",
      "Inserisci un numero: 247\n",
      "La media dei numeri inseriti è:  91.0 La lista completa è:  [5.0, 21.0, 247.0]\n"
     ]
    }
   ],
   "source": [
    "numeri = []\n",
    "n = int(input(\"Quanti numeri vuoi inserire? \"))\n",
    "\n",
    "for i in range(n):\n",
    "    numero = float(input(\"Inserisci un numero: \"))\n",
    "    numeri.append(numero)\n",
    "    \n",
    "media = sum(numeri) / len(numeri)\n",
    "\n",
    "print(\"La media dei numeri inseriti è: \", media, \"La lista completa è: \", numeri)\n"
   ]
  },
  {
   "cell_type": "code",
   "execution_count": 15,
   "id": "80355880",
   "metadata": {},
   "outputs": [
    {
     "name": "stdout",
     "output_type": "stream",
     "text": [
      "Indovina il numero(1-100): 90\n",
      "No, il numero da indovinare è più piccolo.\n",
      "Indovina il numero(1-100): 40\n",
      "No, il numero da indovinare è più grande.\n",
      "Indovina il numero(1-100): 50\n",
      "No, il numero da indovinare è più grande.\n",
      "Indovina il numero(1-100): 60\n",
      "No, il numero da indovinare è più grande.\n",
      "Indovina il numero(1-100): 70\n",
      "No, il numero da indovinare è più grande.\n",
      "Indovina il numero(1-100): 80\n",
      "No, il numero da indovinare è più grande.\n",
      "Indovina il numero(1-100): 83\n",
      "No, il numero da indovinare è più grande.\n",
      "Indovina il numero(1-100): 88\n",
      "No, il numero da indovinare è più grande.\n",
      "Indovina il numero(1-100): 89\n",
      "Bravo! Hai indovinato il numero 89 in 9 tentativi.\n"
     ]
    }
   ],
   "source": [
    "import random \n",
    "\n",
    "numero_da_indovinare = random.randint(1, 100)\n",
    "tentativi = 0\n",
    "\n",
    "while True:\n",
    "    tentativo = int(input(\"Indovina il numero(1-100): \"))\n",
    "    tentativi += 1\n",
    "    \n",
    "    if tentativo == numero_da_indovinare:\n",
    "        print(\"Bravo! Hai indovinato il numero\", numero_da_indovinare, \"in\", tentativi, \"tentativi.\")\n",
    "        break\n",
    "    elif tentativo < numero_da_indovinare:\n",
    "        print(\"No, il numero da indovinare è più grande.\")\n",
    "    else:\n",
    "        print(\"No, il numero da indovinare è più piccolo.\")\n",
    "    "
   ]
  },
  {
   "cell_type": "code",
   "execution_count": 18,
   "id": "bceca989",
   "metadata": {},
   "outputs": [
    {
     "name": "stdout",
     "output_type": "stream",
     "text": [
      "Ciao! benvenuto al gioco della Morra Cinese!\n",
      "Scegli una mossa (carta, forbice, sasso) carta\n",
      "Il computer ha scelto:  sasso\n",
      "Complimenti, hai vinto!\n"
     ]
    }
   ],
   "source": [
    "import random\n",
    "\n",
    "mosse = [\"carta\", \"forbice\", \"sasso\"]\n",
    "\n",
    "computer_mossa = random.choice(mosse)\n",
    "print(\"Ciao! benvenuto al gioco della Morra Cinese!\")\n",
    "scelta_giocatore = input(\"Scegli una mossa (carta, forbice, sasso) \")\n",
    "\n",
    "if scelta_giocatore not in mosse:\n",
    "    print(\"Mossa non permessa\")\n",
    "else:\n",
    "    print(\"Il computer ha scelto: \", computer_mossa)\n",
    "    if scelta_giocatore == computer_mossa:\n",
    "        print(\"Pareggio!\")\n",
    "    elif (scelta_giocatore == \"carta\" and computer_mossa == \"sasso\") or \\\n",
    "         (scelta_giocatore == \"forbice\" and computer_mossa == \"carta\") or \\\n",
    "         (scelta_giocatore == \"sasso\" and computer_mossa == \"forbice\"):\n",
    "        print(\"Complimenti, hai vinto!\")\n",
    "    else:\n",
    "        print(\"Hai perso! Andrà meglio la prossima volta...\")\n",
    "        "
   ]
  },
  {
   "cell_type": "code",
   "execution_count": 3,
   "id": "5b8ed713",
   "metadata": {},
   "outputs": [
    {
     "name": "stdout",
     "output_type": "stream",
     "text": [
      "Inserisci un numero intero positivo: 6\n",
      "il fattoriale di 6 è 720\n"
     ]
    }
   ],
   "source": [
    "n=int(input(\"Inserisci un numero intero positivo: \"))\n",
    "\n",
    "fattoriale=1\n",
    "\n",
    "if n<0:\n",
    "    print(\"Ti ho detto di mettere un numero positivo!\")\n",
    "elif n==0:\n",
    "    print(\"il fattoriale di 0 è 1 per definizione\")\n",
    "else:\n",
    "    for numero in range(1, n+1):\n",
    "        fattoriale*=numero\n",
    "    print(f\"il fattoriale di {n} è {fattoriale}\")\n"
   ]
  },
  {
   "cell_type": "code",
   "execution_count": 22,
   "id": "e03df175",
   "metadata": {},
   "outputs": [
    {
     "name": "stdout",
     "output_type": "stream",
     "text": [
      "inserisci un numero intero positivo 4\n",
      "La somma dei primi 0 numeri pari è 20\n"
     ]
    }
   ],
   "source": [
    "# Chiedere all'utente di inserire un numero intero positivo N\n",
    "N = int(input(\"inserisci un numero intero positivo \"))\n",
    "\n",
    "# Calcolare la somma a zero\n",
    "somma = 0\n",
    "\n",
    "# calcolare la somma dei primi N numeri pari\n",
    "for numero in range(2, 2 * N + 1, 2):\n",
    "    somma += numero\n",
    "print(f\"La somma dei primi {n} numeri pari è {somma}\")"
   ]
  },
  {
   "cell_type": "code",
   "execution_count": 26,
   "id": "51bae295",
   "metadata": {},
   "outputs": [
    {
     "name": "stdout",
     "output_type": "stream",
     "text": [
      "inserisci un numero intero positivo 5\n",
      "[2, 4, 6, 8, 10]\n"
     ]
    }
   ],
   "source": [
    "# Chiedere all'utente di inserire un numero intero positivo N\n",
    "N = int(input(\"inserisci un numero intero positivo \"))\n",
    "lista=[]\n",
    "\n",
    "\n",
    "\n",
    "\n",
    "# calcolare la somma dei primi N numeri pari\n",
    "for numero in range(2, 2 * N + 1, 2):\n",
    "    lista.append(numero)\n",
    "\n",
    "print(lista)"
   ]
  },
  {
   "cell_type": "code",
   "execution_count": 24,
   "id": "20c50074",
   "metadata": {},
   "outputs": [
    {
     "name": "stdout",
     "output_type": "stream",
     "text": [
      "Inserisci una frase o una parola mi chiamo Samuele\n",
      "Nella frase inserita ci sono 8 vocali.\n"
     ]
    }
   ],
   "source": [
    "frase = input(\"Inserisci una frase o una parola \").lower() \n",
    "conteggio_vocali = 0\n",
    "\n",
    "vocali = \"aeiou\"\n",
    "\n",
    "for carattere in frase:\n",
    "    if carattere in vocali:\n",
    "        conteggio_vocali += 1\n",
    "# per ogni elemento contenuto nella frase, se l'elemento rientra nelle vocali, aggiorna il conteggio\n",
    "print(f\"Nella frase inserita ci sono {conteggio_vocali} vocali.\")\n",
    "# la f davanti alle virgolette mi permette di inserire variabili numeriche all'interno del comando print ma devono essere messe tra le {}"
   ]
  },
  {
   "cell_type": "code",
   "execution_count": 9,
   "id": "c4dace1e",
   "metadata": {},
   "outputs": [
    {
     "name": "stdout",
     "output_type": "stream",
     "text": [
      "Indovina il numero del dado (da 1 a 6) 2\n",
      "Mi dispiace, ma il numero del dado era 3. Andrà meglio la prossima volta!\n"
     ]
    }
   ],
   "source": [
    "import random\n",
    "\n",
    "#genera un numero casuale da 1 a 6 (simulando il lancio di un dado)\n",
    "numero_dado = random.randint(1, 6)\n",
    "# chiedi all'utente di indovinare il numero\n",
    "indovina = int(input(\"Indovina il numero del dado (da 1 a 6) \"))\n",
    "# Verifica se l'utente ha indovinato il numero corretto\n",
    "if indovina <1 or indovina >6:\n",
    "    print(\"Numero non ammesso\")\n",
    "elif indovina == numero_dado:\n",
    "    print(f\"Complimenti! Il numero del dado era {numero_dado}. Hai indovinato!\")\n",
    "else:\n",
    "    print(f\"Mi dispiace, ma il numero del dado era {numero_dado}. Andrà meglio la prossima volta!\")"
   ]
  },
  {
   "cell_type": "code",
   "execution_count": 2,
   "id": "6b594830",
   "metadata": {},
   "outputs": [
    {
     "name": "stdout",
     "output_type": "stream",
     "text": [
      "inserisci la popolazione iniziale: 30000\n",
      "inserisci numero di anni da simulare: 15\n",
      "inserisci il tasso di natalità: 2.4\n",
      "inserisci il tasso di mortalità4.5\n",
      "Anno 1: Popolazione= 29370\n",
      "Simulazione completata.\n",
      "Anno 2: Popolazione= 28753\n",
      "Simulazione completata.\n",
      "Anno 3: Popolazione= 28149\n",
      "Simulazione completata.\n",
      "Anno 4: Popolazione= 27558\n",
      "Simulazione completata.\n",
      "Anno 5: Popolazione= 26979\n",
      "Simulazione completata.\n",
      "Anno 6: Popolazione= 26412\n",
      "Simulazione completata.\n",
      "Anno 7: Popolazione= 25858\n",
      "Simulazione completata.\n",
      "Anno 8: Popolazione= 25315\n",
      "Simulazione completata.\n",
      "Anno 9: Popolazione= 24783\n",
      "Simulazione completata.\n",
      "Anno 10: Popolazione= 24263\n",
      "Simulazione completata.\n",
      "Anno 11: Popolazione= 23753\n",
      "Simulazione completata.\n",
      "Anno 12: Popolazione= 23254\n",
      "Simulazione completata.\n",
      "Anno 13: Popolazione= 22766\n",
      "Simulazione completata.\n",
      "Anno 14: Popolazione= 22288\n",
      "Simulazione completata.\n",
      "Anno 15: Popolazione= 21820\n",
      "Simulazione completata.\n"
     ]
    }
   ],
   "source": [
    "popolazione=int(input(\"inserisci la popolazione iniziale: \"))\n",
    "anni=int(input(\"inserisci numero di anni da simulare: \"))\n",
    "tasso_natalità=float(input(\"inserisci il tasso di natalità: \"))\n",
    "tasso_mortalità=float(input(\"inserisci il tasso di mortalità\"))\n",
    "\n",
    "for anno in range(anni):\n",
    "    nascite=(popolazione*tasso_natalità)/100\n",
    "    morti=(popolazione*tasso_mortalità)/100\n",
    "    popolazione+=(nascite-morti)\n",
    "    \n",
    "    print(f\"Anno {anno+1}: Popolazione= {int(popolazione)}\")\n",
    "\n",
    "    print(\"Simulazione completata.\")"
   ]
  },
  {
   "cell_type": "code",
   "execution_count": 15,
   "id": "42dfe8ac",
   "metadata": {},
   "outputs": [
    {
     "name": "stdout",
     "output_type": "stream",
     "text": [
      "Oggi è il giorno: 18 10 2023 ore: 12 28 18\n"
     ]
    }
   ],
   "source": [
    "import datetime\n",
    "\n",
    "today = datetime.datetime.today()\n",
    "print(f\"Oggi è il giorno: {today:%d %m %Y} ore: {today:%H %M %S}\")"
   ]
  },
  {
   "cell_type": "code",
   "execution_count": 17,
   "id": "b20113a6",
   "metadata": {},
   "outputs": [
    {
     "name": "stdout",
     "output_type": "stream",
     "text": [
      "Benvenuto nel convertitore di unità di misura!\n",
      "Cosa desideri convertire? (metri/piedi/chilogrammi/libbre): libbre\n",
      "Inserisci il valore in libbre: 25\n",
      "25.0 libbre corrispondono a 55.1155 chilogrammi.\n"
     ]
    }
   ],
   "source": [
    "print(\"Benvenuto nel convertitore di unità di misura!\")\n",
    "scelta = input(\"Cosa desideri convertire? (metri/piedi/chilogrammi/libbre): \").lower()\n",
    "\n",
    "if scelta == \"metri\":\n",
    "    valore = float(input(\"Inserisci il valore in metri: \"))\n",
    "    risultato = valore * 3.28084\n",
    "    print(f\"{valore} metri corrispondono a {risultato} piedi.\")\n",
    "\n",
    "elif scelta == \"piedi\":\n",
    "    valore = float(input(\"Inserisci il valore in piedi: \"))\n",
    "    risultato = valore * 3.28084\n",
    "    print(f\"{valore} piedi corrispondono a {risultato} metri.\")\n",
    "          \n",
    "elif scelta == \"chilogrammi\":\n",
    "    valore = float(input(\"Inserisci il valore in chilogrammi: \"))\n",
    "    risultato = valore * 2.20462\n",
    "    print(f\"{valore} chilogrammi corrispondono a {risultato} libbre.\")\n",
    "          \n",
    "elif scelta == \"libbre\":\n",
    "    valore = float(input(\"Inserisci il valore in libbre: \"))\n",
    "    risultato = valore * 2.20462\n",
    "    print(f\"{valore} libbre corrispondono a {risultato} chilogrammi.\")\n",
    "          \n",
    "else:\n",
    "    print(\"Mi prendi per il culo?\")"
   ]
  },
  {
   "cell_type": "code",
   "execution_count": 5,
   "id": "d8247d48",
   "metadata": {},
   "outputs": [
    {
     "name": "stdout",
     "output_type": "stream",
     "text": [
      "Inserisci un numero n per calcolare l'n-essimo numero di Fibonacci: 6\n",
      "L'n-esimo numero di Fibonacci è: 5\n"
     ]
    }
   ],
   "source": [
    "# Chiedere all'utente di inserire un numero n\n",
    "n = int(input(\"Inserisci un numero n per calcolare l'n-essimo numero di Fibonacci: \"))\n",
    "# Inzializzare le variabili per i primi due numeri di Fibonacci\n",
    "a=0\n",
    "b=1\n",
    "c=a+b\n",
    "\n",
    "# Calcolare l'n-esimo numero di Fibonacci\n",
    "if n <= 0:\n",
    "    print(\"Il numero deve essere maggiore di 0\")\n",
    "elif n == 1:\n",
    "    risultato = a\n",
    "else:\n",
    "    for iterazione in range(n-3):\n",
    "        a = b\n",
    "        b = c\n",
    "        c = a + b\n",
    "    risultato = c\n",
    "# Stampare l'n-esimo numero di Fibonacci\n",
    "print(\"L'n-esimo numero di Fibonacci è:\", risultato)"
   ]
  },
  {
   "cell_type": "code",
   "execution_count": 12,
   "id": "e330bedb",
   "metadata": {},
   "outputs": [],
   "source": [
    "def fibonacci(n):\n",
    "    fib_series = [0, 1]\n",
    "    \n",
    "    while len (fib_series) < n:\n",
    "        fib_series.append(fib_series[-1] + fib_series[-2])\n",
    "   #-1 è l'ultimo elemento della serie, -2 è il penultimo, sommandoli lui svolge quello che fa Fibnonacci     \n",
    "    return fib_series"
   ]
  },
  {
   "cell_type": "code",
   "execution_count": 17,
   "id": "ae38d87e",
   "metadata": {},
   "outputs": [
    {
     "data": {
      "text/plain": [
       "[0, 1, 1, 2, 3, 5, 8, 13, 21, 34]"
      ]
     },
     "execution_count": 17,
     "metadata": {},
     "output_type": "execute_result"
    }
   ],
   "source": [
    "fibonacci(10)"
   ]
  },
  {
   "cell_type": "code",
   "execution_count": 20,
   "id": "62813244",
   "metadata": {},
   "outputs": [
    {
     "name": "stdout",
     "output_type": "stream",
     "text": [
      "Inserisci il numero di serie di termini di Fibonacci da generare: 20\n",
      "[0, 1, 1, 2, 3, 5, 8, 13, 21, 34, 55, 89, 144, 233, 377, 610, 987, 1597, 2584, 4181]\n"
     ]
    }
   ],
   "source": [
    "n = int(input(\"Inserisci il numero di serie di termini di Fibonacci da generare: \"))\n",
    "\n",
    "if n <= 0:\n",
    "    print(\"Inserisci un numero positivo.\")\n",
    "else:\n",
    "    result = fibonacci(n)\n",
    "    print(result)"
   ]
  },
  {
   "cell_type": "code",
   "execution_count": 4,
   "id": "a6b31dad",
   "metadata": {},
   "outputs": [],
   "source": [
    "import math\n",
    "\n",
    "def calcola_area_cerchio(raggio):\n",
    "    return math.pi*(raggio**2)\n",
    "\n",
    "def calcola_area_rettangolo(base, altezza):\n",
    "    return base*altezza\n",
    "\n",
    "def calcola_area_trangolo(base, altezza):\n",
    "    return (base*altezza)/2"
   ]
  },
  {
   "cell_type": "code",
   "execution_count": 35,
   "id": "be03b057",
   "metadata": {},
   "outputs": [
    {
     "data": {
      "text/plain": [
       "105.0"
      ]
     },
     "execution_count": 35,
     "metadata": {},
     "output_type": "execute_result"
    }
   ],
   "source": [
    "calcola_area_triangolo(10, 21)"
   ]
  },
  {
   "cell_type": "code",
   "execution_count": 7,
   "id": "b8dcab81",
   "metadata": {},
   "outputs": [
    {
     "name": "stdout",
     "output_type": "stream",
     "text": [
      "benvenuto nella calcolatrice di aree!\n",
      "vuoi calcolare l'area di un cerchio (c), rettangolo (r), triangolo (t)? c\n",
      "inserisci il raggio del cerchio: 50\n",
      "l'area del cerchio è  7853.98\n"
     ]
    }
   ],
   "source": [
    "print(\"benvenuto nella calcolatrice di aree!\")\n",
    "\n",
    "\n",
    "scelta=input(\"vuoi calcolare l'area di un cerchio (c), rettangolo (r), triangolo (t)? \")\n",
    "\n",
    "if scelta =='c':\n",
    "    raggio=float(input(\"inserisci il raggio del cerchio: \"))\n",
    "    area=calcola_area_cerchio(raggio)\n",
    "    print(f\"l'area del cerchio è {area: .2f}\")\n",
    "\n",
    "elif scelta=='r':\n",
    "    base=float(input(\"inserisci la base del rettangolo: \"))\n",
    "    altezza=float(input(\"inserisci l'altezza del rettangolo: \"))\n",
    "    area=calcola_area_rettangolo(base, altezza)\n",
    "    print(f\"l'area del rettangolo è {area: .2f}\")\n",
    "\n",
    "elif scelta=='t':\n",
    "    raggio=float(input(\"inserisci la base del triangolo: \"))\n",
    "    raggio=float(input(\"inserisci l'altezza del triangolo: \"))\n",
    "    area=calcola_area_rettangolo(base, altezza)\n",
    "    print(f\"l'area del triangolo è {area: .2f} \")\n",
    "else:\n",
    "    print(\"Perché non leggi quello che ti dico?\")"
   ]
  },
  {
   "cell_type": "code",
   "execution_count": 2,
   "id": "4382c735",
   "metadata": {},
   "outputs": [],
   "source": [
    "def calcola_interessi(importo_iniziale, tasso_interesse, periodi_investimento):\n",
    "    importo_finale = importo_iniziale * (1 + tasso_interesse / 100) ** periodi_investimento\n",
    "    return importo_finale"
   ]
  },
  {
   "cell_type": "code",
   "execution_count": 5,
   "id": "de11406a",
   "metadata": {},
   "outputs": [
    {
     "name": "stdout",
     "output_type": "stream",
     "text": [
      "Benvenuto nel calcolatore di interessi!\n",
      "Inserisci l'importo iniziale: 10000\n",
      "Inserisci il tasso di interesse annuale (%): 5\n",
      "Inserisci il periodo di investimento (anni): 5\n",
      "L'importo finale dopo 5 anni è di 12762.82 euro.\n"
     ]
    }
   ],
   "source": [
    "print(\"Benvenuto nel calcolatore di interessi!\")\n",
    "\n",
    "importo = float(input(\"Inserisci l'importo iniziale: \"))\n",
    "tasso = float(input(\"Inserisci il tasso di interesse annuale (%): \"))\n",
    "periodo = int(input(\"Inserisci il periodo di investimento (anni): \"))\n",
    "\n",
    "importo_finale = calcola_interessi(importo, tasso, periodo)\n",
    "\n",
    "print(f\"L'importo finale dopo {periodo} anni è di {importo_finale:.2f} euro.\")\n"
   ]
  },
  {
   "cell_type": "code",
   "execution_count": 3,
   "id": "850cdad0",
   "metadata": {},
   "outputs": [
    {
     "data": {
      "text/plain": [
       "14802.442849183444"
      ]
     },
     "execution_count": 3,
     "metadata": {},
     "output_type": "execute_result"
    }
   ],
   "source": [
    "calcola_interessi(10000, 4, 10)"
   ]
  },
  {
   "cell_type": "code",
   "execution_count": 4,
   "id": "547c09fc",
   "metadata": {},
   "outputs": [],
   "source": [
    "def forza_gravitazionale(m1, m2, r):\n",
    "    #Costante gravitazionale\n",
    "    G = 6.67430e-11 #N(m/Kg)^2\n",
    "    \n",
    "    #Calcolo della forza gravitazionale\n",
    "    F = (G * m1 * m2) / (r ** 2)\n",
    "    return F"
   ]
  },
  {
   "cell_type": "code",
   "execution_count": 6,
   "id": "2d5e9aa6",
   "metadata": {},
   "outputs": [
    {
     "name": "stdout",
     "output_type": "stream",
     "text": [
      "Forza gravitazionale tra la Terra e la Luna: 1.9804922390990566e+20 Newton\n"
     ]
    }
   ],
   "source": [
    "#Esempio di utilizzo:\n",
    "massa_terra = 5.972e24 #kg\n",
    "massa_luna = 7.342e22 #kg\n",
    "distanza_terra_luna = 384400000 # metri\n",
    "\n",
    "forza = forza_gravitazionale(massa_terra, massa_luna, distanza_terra_luna)\n",
    "print(f\"Forza gravitazionale tra la Terra e la Luna: {forza} Newton\")"
   ]
  },
  {
   "cell_type": "code",
   "execution_count": 2,
   "id": "0762ad09",
   "metadata": {},
   "outputs": [],
   "source": [
    "from itertools import permutations\n",
    "k=0\n",
    "\n",
    "def trova_anagrammi(parola):\n",
    "    anagrammi = [\"\".join(p) for p in permutations(parola)]\n",
    "    return anagrammi\n",
    "#.join(p) serve a unire le stringhe di testo"
   ]
  },
  {
   "cell_type": "code",
   "execution_count": 3,
   "id": "d13cbb0d",
   "metadata": {},
   "outputs": [
    {
     "name": "stdout",
     "output_type": "stream",
     "text": [
      "Benvenuto nel Risolutore di Anagrammi!\n",
      "Inserisci una parola: easy\n",
      "eays\n",
      "esay\n",
      "esya\n",
      "eyas\n",
      "eysa\n",
      "aesy\n",
      "aeys\n",
      "asey\n",
      "asye\n",
      "ayes\n",
      "ayse\n",
      "seay\n",
      "seya\n",
      "saey\n",
      "saye\n",
      "syea\n",
      "syae\n",
      "yeas\n",
      "yesa\n",
      "yaes\n",
      "yase\n",
      "ysea\n",
      "ysae\n",
      "Gli anagrammi di 'easy' sono:'23'\n"
     ]
    }
   ],
   "source": [
    "print(\"Benvenuto nel Risolutore di Anagrammi!\")\n",
    "\n",
    "parola_input = input(\"Inserisci una parola: \").strip().lower()\n",
    "\n",
    "if len(parola_input) < 2:\n",
    "    print(\"La parola deve avere almeno 2 caratteri. \")\n",
    "else:\n",
    "    anagrammi = trova_anagrammi(parola_input)\n",
    "    \n",
    "    for elemento in anagrammi:\n",
    "        if elemento != parola_input: #!= significa diverso\n",
    "            k+=1\n",
    "            print(elemento)\n",
    "    print(f\"Gli anagrammi di '{parola_input}' sono:'{k}'\")"
   ]
  },
  {
   "cell_type": "code",
   "execution_count": 28,
   "id": "794adde0",
   "metadata": {},
   "outputs": [
    {
     "name": "stdout",
     "output_type": "stream",
     "text": [
      "Inserisci l'importo da covertire: 100\n",
      "Inserisci la valuta di partenza: dollari\n",
      "Inserisci la valuta di destinazione: franchi svizzeri\n",
      "100.0 dollari sono equivalenti a 89.00  franchi svizzeri\n"
     ]
    }
   ],
   "source": [
    "#Definizione dei tassi di cambio\n",
    "\n",
    "tassi_di_cambio = {\n",
    "    \"dollari\": 1.0,\n",
    "    \"euro\": 0.85,\n",
    "    \"yen\": 110.41,\n",
    "    \"franchi svizzeri\": 0.89,\n",
    "    #Come un dizionario, per ogni parola gli do una definizione\n",
    "}\n",
    "\n",
    "importo = float(input(\"Inserisci l'importo da covertire: \"))\n",
    "valuta_di_partenza = input(\"Inserisci la valuta di partenza: \").lower()\n",
    "valuta_destinazione = input(\"Inserisci la valuta di destinazione: \").lower()\n",
    "\n",
    "if valuta_di_partenza in tassi_di_cambio and valuta_destinazione in tassi_di_cambio:\n",
    "    tasso_di_cambio = tassi_di_cambio[valuta_destinazione] / tassi_di_cambio[valuta_di_partenza]\n",
    "    importo_convertito = importo * tasso_di_cambio\n",
    "    print(f\"{importo} {valuta_di_partenza} sono equivalenti a {importo_convertito:.2f}  {valuta_destinazione}\")\n",
    "    \n",
    "else:\n",
    "    print(\"Valute non supportate, assicurati di inserire valute valide. \")"
   ]
  },
  {
   "cell_type": "code",
   "execution_count": 27,
   "id": "1f176a9b",
   "metadata": {},
   "outputs": [
    {
     "data": {
      "text/plain": [
       "0.85"
      ]
     },
     "execution_count": 27,
     "metadata": {},
     "output_type": "execute_result"
    }
   ],
   "source": [
    "tassi_di_cambio[\"euro\"]"
   ]
  },
  {
   "cell_type": "code",
   "execution_count": 3,
   "id": "9e1d5b6c",
   "metadata": {},
   "outputs": [
    {
     "name": "stdout",
     "output_type": "stream",
     "text": [
      "Inserisci una frase: ciao ragazzi zio bricco\n",
      "a: 3\n",
      "b: 1\n",
      "c: 3\n",
      "g: 1\n",
      "i: 4\n",
      "o: 3\n",
      "r: 2\n",
      "z: 3\n"
     ]
    }
   ],
   "source": [
    "frase = input(\"Inserisci una frase: \")\n",
    "\n",
    "frase = frase.lower()\n",
    "\n",
    "alfabeto = 'abcdefghijklmnopqrstuvwxyz'\n",
    "\n",
    "conteggio_lettere = {}\n",
    "\n",
    "for lettera in alfabeto:\n",
    "    conteggio = frase.count(lettera)\n",
    "    \n",
    "    if conteggio > 0:\n",
    "        conteggio_lettere[lettera] = conteggio\n",
    "        \n",
    "for lettera, conteggio in conteggio_lettere.items():\n",
    "    print (f\"{lettera}: {conteggio}\")\n",
    "    "
   ]
  },
  {
   "cell_type": "code",
   "execution_count": 1,
   "id": "c5a5ce79",
   "metadata": {},
   "outputs": [
    {
     "name": "stdout",
     "output_type": "stream",
     "text": [
      "Menù: \n",
      "\n",
      " 1. Aggiungi cibo consumato\n",
      "\n",
      " 2. Calcola calorie totali\n",
      "\n",
      " 3. Esci.\n",
      "Scegli un'opzione: 1\n",
      "\n",
      "\n",
      "pizza 285\n",
      "hamburger 250\n",
      "insalata 100\n",
      "pollo arrosto 335\n",
      "yogurt 150\n",
      "Inserisci il cibo consumato: pizza\n",
      "Inserisci la quantita (in grammi): 1000\n",
      "Menù: \n",
      "\n",
      " 1. Aggiungi cibo consumato\n",
      "\n",
      " 2. Calcola calorie totali\n",
      "\n",
      " 3. Esci.\n",
      "Scegli un'opzione: 2\n",
      "\n",
      "Calorie totali consumate: 2850.0 calorie\n",
      "Menù: \n",
      "\n",
      " 1. Aggiungi cibo consumato\n",
      "\n",
      " 2. Calcola calorie totali\n",
      "\n",
      " 3. Esci.\n",
      "Scegli un'opzione: 3\n"
     ]
    }
   ],
   "source": [
    "cibo_calorie = {\n",
    "    \"pizza\": 285,\n",
    "    \"hamburger\": 250,\n",
    "    \"insalata\": 100,\n",
    "    \"pollo arrosto\": 335,\n",
    "    \"yogurt\": 150,\n",
    "}\n",
    "\n",
    "def calorie_consumate(cibo, quantita):\n",
    "    if cibo not in cibo_calorie.keys():\n",
    "        print(\"Cibo non presente\")\n",
    "    elif cibo in cibo_calorie.keys():\n",
    "        calorie_per_100g = cibo_calorie[cibo]\n",
    "        calorie_totali = (calorie_per_100g / 100) * quantita\n",
    "        return calorie_totali\n",
    "    \n",
    "def main():\n",
    "    cibo_consumato = []\n",
    "    \n",
    "    while True:\n",
    "        print(\"Menù: \")\n",
    "        print(\"\\n 1. Aggiungi cibo consumato\")\n",
    "        print(\"\\n 2. Calcola calorie totali\")\n",
    "        print(\"\\n 3. Esci.\")\n",
    "        \n",
    "        scelta = input(\"Scegli un'opzione: \")\n",
    "        \n",
    "        if scelta == \"1\":\n",
    "            print(\"\\n\")\n",
    "            \n",
    "            for key, value in cibo_calorie.items():\n",
    "                print (key, value)\n",
    "                \n",
    "            cibo = input(\"Inserisci il cibo consumato: \")\n",
    "            quantita = float(input(\"Inserisci la quantita (in grammi): \"))\n",
    "            cibo_consumato.append((cibo, quantita))\n",
    "            \n",
    "        elif scelta == \"2\":\n",
    "            calorie_totali = sum(calorie_consumate(c, q) for c, q in cibo_consumato)\n",
    "            print(f\"\\nCalorie totali consumate: {calorie_totali} calorie\")\n",
    "        elif scelta == \"3\":\n",
    "            break\n",
    "        else:\n",
    "            print(\"\\nScelta non valida.\")\n",
    "if __name__ == \"__main__\":\n",
    "    main()"
   ]
  },
  {
   "cell_type": "code",
   "execution_count": null,
   "id": "6ec3aa9b",
   "metadata": {},
   "outputs": [],
   "source": []
  },
  {
   "cell_type": "code",
   "execution_count": null,
   "id": "d866bbc7",
   "metadata": {},
   "outputs": [],
   "source": []
  },
  {
   "cell_type": "code",
   "execution_count": null,
   "id": "0291927c",
   "metadata": {},
   "outputs": [],
   "source": []
  },
  {
   "cell_type": "code",
   "execution_count": null,
   "id": "704baad4",
   "metadata": {},
   "outputs": [],
   "source": []
  },
  {
   "cell_type": "code",
   "execution_count": null,
   "id": "93986941",
   "metadata": {},
   "outputs": [],
   "source": []
  }
 ],
 "metadata": {
  "kernelspec": {
   "display_name": "Python 3 (ipykernel)",
   "language": "python",
   "name": "python3"
  },
  "language_info": {
   "codemirror_mode": {
    "name": "ipython",
    "version": 3
   },
   "file_extension": ".py",
   "mimetype": "text/x-python",
   "name": "python",
   "nbconvert_exporter": "python",
   "pygments_lexer": "ipython3",
   "version": "3.11.4"
  }
 },
 "nbformat": 4,
 "nbformat_minor": 5
}
